{
 "cells": [
  {
   "cell_type": "code",
   "execution_count": null,
   "id": "3f88ff427ef2f623",
   "metadata": {
    "collapsed": false,
    "is_executing": true
   },
   "outputs": [],
   "source": [
    "%load_ext autoreload\n",
    "%autoreload 2\n",
    "%matplotlib inline"
   ]
  },
  {
   "cell_type": "code",
   "execution_count": null,
   "id": "initial_id",
   "metadata": {
    "collapsed": false,
    "is_executing": true
   },
   "outputs": [],
   "source": [
    "from sdebridge import diffusion_bridge as db\n",
    "from sdebridge import sdes\n",
    "\n",
    "from sdebridge.utils import score_fn\n",
    "from sdebridge.data_processing import sample_ellipse\n",
    "\n",
    "from sdebridge.plotting import plot_single_trajectory\n",
    "import matplotlib.pyplot as plt\n",
    "import jax\n",
    "import jax.numpy as jnp"
   ]
  },
  {
   "cell_type": "code",
   "execution_count": null,
   "id": "39dd1b1afe6a875f",
   "metadata": {
    "collapsed": false,
    "is_executing": true
   },
   "outputs": [],
   "source": [
    "sde_config = {\n",
    "    \"T\": 1.0,\n",
    "    \"Nt\": 100,\n",
    "    \"dim\": 2,\n",
    "    \"n_bases\": 16,\n",
    "    \"sigma\": 1.0,\n",
    "}\n",
    "\n",
    "forward_init = sample_ellipse(sde_config[\"n_bases\"])\n",
    "forward_init = jnp.expand_dims(forward_init, axis=0)\n",
    "bm_sde = sdes.brownian_sde(**sde_config)"
   ]
  },
  {
   "cell_type": "code",
   "execution_count": null,
   "id": "8d06b78ad16616db",
   "metadata": {
    "collapsed": false,
    "is_executing": true
   },
   "outputs": [],
   "source": [
    "key = jax.random.PRNGKey(2)\n",
    "forward_trajs = sdes.simulate_traj(bm_sde, forward_init, 2, key)\n",
    "traj = forward_trajs[0].reshape((-1, sde_config[\"n_bases\"]*sde_config[\"dim\"]))\n",
    "plot_single_trajectory(traj, \"Unconditioned Brownian Motion\")\n"
   ]
  },
  {
   "cell_type": "code",
   "execution_count": null,
   "id": "4958617fdb339b8a",
   "metadata": {
    "collapsed": false,
    "is_executing": true
   },
   "outputs": [],
   "source": [
    "from sdebridge.networks.score_unet import ScoreUNet\n",
    "import time\n",
    "\n",
    "    \n",
    "neural_net = ScoreUNet\n",
    "\n",
    "network = {\n",
    "    \"output_dim\": bm_sde.dim*bm_sde.n_bases,\n",
    "    \"time_embedding_dim\": 32,\n",
    "    \"init_embedding_dim\": 32,\n",
    "    \"act_fn\": \"silu\",\n",
    "    \"encoder_layer_dims\": [64, 32, 16, 8],\n",
    "    \"decoder_layer_dims\": [8, 16, 32, 64],\n",
    "    \"batchnorm\": True,\n",
    "}\n",
    "    \n",
    "training= {\n",
    "    \"batch_size\": 100,\n",
    "    \"load_size\": 5000,\n",
    "    \"num_epochs\": 200,\n",
    "    \"learning_rate\": 1e-2,\n",
    "    \"warmup_steps\": 100,\n",
    "}\n",
    "\n",
    "target = sample_ellipse(sde_config[\"n_bases\"])\n",
    "target = jnp.expand_dims(target, axis=0)\n",
    "\n",
    "def target_sampler(key, num_batches):\n",
    "    initial_vals = jnp.tile(target, reps=(num_batches, 1, 1, 1))\n",
    "    return initial_vals\n",
    "\n",
    "\n",
    "train_key = jax.random.split(key, 2)[0]\n",
    "start = time.time()\n",
    "score_state_p = db.learn_p_score(bm_sde, target_sampler, train_key, aux_dim=1, **training, net=neural_net, network_params=network)\n",
    "end = time.time()\n",
    "training_time = end - start"
   ]
  },
  {
   "cell_type": "code",
   "execution_count": null,
   "outputs": [],
   "source": [
    "import orbax\n",
    "from flax.training import orbax_utils\n",
    "import os\n",
    "\n",
    "bases = sde_config[\"n_bases\"]\n",
    "\n",
    "save_path = f\"./ckpts/bm/{bases}_landmarks_exact\"\n",
    "\n",
    "score_p_ckpt = {\n",
    "    \"state\": score_state_p,\n",
    "    \"training_config\": training,\n",
    "    \"network_config\": network,\n",
    "    \"sde_config\": sde_config,\n",
    "    \"time\": training_time,\n",
    "}\n",
    "\n",
    "orbax_checkpointer = orbax.checkpoint.PyTreeCheckpointer()\n",
    "\n",
    "save_args = orbax_utils.save_args_from_target(score_p_ckpt)\n",
    "orbax_checkpointer.save(os.path.abspath(save_path), score_p_ckpt, save_args=save_args, force=True)\n",
    "print(\"saved score_p_ckpt\")"
   ],
   "metadata": {
    "collapsed": false,
    "is_executing": true
   },
   "id": "c506988bd4156e0"
  },
  {
   "cell_type": "code",
   "execution_count": null,
   "outputs": [],
   "source": [
    "# def load_score_p_ckpt(path):\n",
    "#     orbax_checkpointer = orbax.checkpoint.PyTreeCheckpointer()\n",
    "#     score_p_ckpt = orbax_checkpointer.load(path)\n",
    "#     return score_p_ckpt\n",
    "# \n",
    "# paths = [\"./ckpts/bm/8_landmarks_exact\", \"./ckpts/bm/16_landmarks_exact\", \"./ckpts/bm/32_landmarks_exact\"]\n",
    "# ckpts = []\n",
    "# states = []\n",
    "# scores = []\n",
    "# times = []\n",
    "# \n",
    "# for path in paths:\n",
    "#     score_p_ckpt = load_score_p_ckpt(path)\n",
    "#     ckpts.append(score_p_ckpt)\n",
    "#     states.append(score_p_ckpt[\"state\"])\n",
    "#     scores.append(score_fn(score_p_ckpt[\"state\"]))\n",
    "#     times.append(score_p_ckpt[\"time\"])"
   ],
   "metadata": {
    "collapsed": false,
    "is_executing": true
   },
   "id": "1227d0e594c034fe"
  },
  {
   "cell_type": "code",
   "execution_count": null,
   "outputs": [],
   "source": [
    "def forward_score(t0, x0, t, x):\n",
    "    x0 = jnp.asarray(x0)\n",
    "    x = jnp.asarray(x)\n",
    "    return -(x - x0) / (t - t0)\n",
    "\n",
    "\n",
    "def error_forward(ts, true_score, trained_score, target, y):\n",
    "    \"\"\"mean squared error between true and trained score\"\"\"\n",
    "    true = jax.vmap(true_score, in_axes=(None, None, 0, None))(0, target, ts, y)\n",
    "    trained = jax.vmap(trained_score, in_axes=(None, 0))(y, ts)\n",
    "    return jnp.mean((true - trained) ** 2)\n",
    "\n",
    "ts = jnp.linspace(0, bm_sde.T, 100)\n",
    "score_p = score_fn(score_state_p)\n",
    "\n",
    "initial_val = sample_ellipse(sde_config[\"n_bases\"], scale=2.0)\n",
    "\n",
    "error = error_forward(ts[1:], forward_score, score_p, target,  initial_val)\n",
    "print(error)"
   ],
   "metadata": {
    "collapsed": false,
    "is_executing": true
   },
   "id": "5016e2633008f888"
  },
  {
   "cell_type": "code",
   "execution_count": null,
   "outputs": [],
   "source": [
    "# Plot the true score and the trained score for a circle at t=0.5\n",
    "\n",
    "true_score = forward_score(0, target, 0.5, initial_val).squeeze()\n",
    "trained_score = score_p(initial_val, 0.5).squeeze()\n",
    "\n",
    "\n",
    "plt.scatter(true_score[:, 0], true_score[:, 1], c='b')\n",
    "plt.scatter(trained_score[:, 0], trained_score[:, 1], c='r')\n",
    "\n",
    "plt.show()\n"
   ],
   "metadata": {
    "collapsed": false,
    "is_executing": true
   },
   "id": "a6561a1d8886b085"
  },
  {
   "cell_type": "code",
   "execution_count": null,
   "id": "6d57e0b831beb826",
   "metadata": {
    "collapsed": false,
    "is_executing": true
   },
   "outputs": [],
   "source": [
    "initial_val = sample_ellipse(sde_config[\"n_bases\"], scale=2.0)\n",
    "initial_val = jnp.expand_dims(initial_val, axis=0)\n",
    "score_p = score_fn(score_state_p)\n",
    "reverse_bm = sdes.reverse(bm_sde, score_p)\n",
    "backward_trajs = sdes.simulate_traj(reverse_bm, initial_val, 2, train_key)\n"
   ]
  },
  {
   "cell_type": "code",
   "execution_count": null,
   "id": "9825b8f02b923a4a",
   "metadata": {
    "collapsed": false,
    "is_executing": true
   },
   "outputs": [],
   "source": [
    "traj = backward_trajs[0].reshape((-1, sde_config[\"n_bases\"]*sde_config[\"dim\"]))\n",
    "plot_single_trajectory(traj, \"Conditioned Brownian Motion\")\n",
    "\n",
    "plt.scatter(target[:, :, 0], target[:, :, 1], c='r', label=\"Target\", zorder=3)\n",
    "plt.show()\n",
    "\n",
    "traj = forward_trajs[0].reshape((-1, sde_config[\"n_bases\"]*sde_config[\"dim\"]))\n",
    "plot_single_trajectory(traj, \"Unconditioned Brownian Motion\")"
   ]
  },
  {
   "cell_type": "code",
   "execution_count": null,
   "outputs": [],
   "source": [],
   "metadata": {
    "collapsed": false,
    "is_executing": true
   },
   "id": "47b2fd6991b8889c"
  }
 ],
 "metadata": {
  "kernelspec": {
   "display_name": "Python 3",
   "language": "python",
   "name": "python3"
  },
  "language_info": {
   "codemirror_mode": {
    "name": "ipython",
    "version": 3
   },
   "file_extension": ".py",
   "mimetype": "text/x-python",
   "name": "python",
   "nbconvert_exporter": "python",
   "pygments_lexer": "ipython3",
   "version": "3.11.3"
  }
 },
 "nbformat": 4,
 "nbformat_minor": 5
}
