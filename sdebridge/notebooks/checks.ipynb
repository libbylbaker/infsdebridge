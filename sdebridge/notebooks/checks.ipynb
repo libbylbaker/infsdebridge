{
 "cells": [
  {
   "cell_type": "code",
   "execution_count": 1,
   "metadata": {},
   "outputs": [],
   "source": [
    "%load_ext autoreload\n",
    "%autoreload 2"
   ]
  },
  {
   "cell_type": "code",
   "execution_count": 4,
   "metadata": {},
   "outputs": [],
   "source": [
    "from functools import partial\n",
    "import jax\n",
    "import jax.numpy as jnp\n",
    "import matplotlib.pyplot as plt\n",
    "\n",
    "jax.config.update('jax_platform_name', 'cpu')\n",
    "\n",
    "import sys\n",
    "sys.path.append('../../')\n",
    "from networks import get_time_step_embedding"
   ]
  },
  {
   "cell_type": "code",
   "execution_count": 6,
   "metadata": {},
   "outputs": [
    {
     "name": "stdout",
     "output_type": "stream",
     "text": [
      "(50,)\n",
      "(50, 32)\n"
     ]
    }
   ],
   "source": [
    "time = jnp.linspace(0, 1, 50)\n",
    "print(time.shape)\n",
    "time_emb = jax.vmap(partial(get_time_step_embedding, embedding_dim=32, max_period=128.0, scaling=100.0))(time)\n",
    "print(time_emb.shape)"
   ]
  },
  {
   "cell_type": "code",
   "execution_count": 7,
   "metadata": {},
   "outputs": [
    {
     "data": {
      "text/plain": [
       "<matplotlib.colorbar.Colorbar at 0x7fead40bed90>"
      ]
     },
     "execution_count": 7,
     "metadata": {},
     "output_type": "execute_result"
    },
    {
     "data": {
      "image/png": "[encoded data removed]",
      "text/plain": [
       "<Figure size 640x480 with 2 Axes>"
      ]
     },
     "metadata": {},
     "output_type": "display_data"
    }
   ],
   "source": [
    "plt.imshow(time_emb.real, cmap='RdGy')\n",
    "plt.colorbar()"
   ]
  },
  {
   "cell_type": "code",
   "execution_count": 4,
   "metadata": {},
   "outputs": [
    {
     "data": {
      "text/plain": [
       "<matplotlib.image.AxesImage at 0x7fb4746dc1d0>"
      ]
     },
     "execution_count": 4,
     "metadata": {},
     "output_type": "execute_result"
    },
    {
     "data": {
      "image/png": "[encoded data removed]",
      "text/plain": [
       "<Figure size 640x480 with 1 Axes>"
      ]
     },
     "metadata": {},
     "output_type": "display_data"
    }
   ],
   "source": [
    "a = jax.random.normal(jax.random.PRNGKey(0), (4, 16))\n",
    "zero_mat = jnp.zeros_like(a)\n",
    "big_a = jnp.block([[a, zero_mat], [zero_mat, a]])\n",
    "plt.figure()\n",
    "plt.imshow(big_a, cmap='gray')"
   ]
  },
  {
   "cell_type": "code",
   "execution_count": 21,
   "metadata": {},
   "outputs": [],
   "source": [
    "def complex_weighted_norm_square(x: jnp.ndarray, weight: jnp.ndarray) -> jax.Array:\n",
    "    return jnp.einsum(\"...i,...ij,...j->...\", jnp.conj(x), weight, x)"
   ]
  },
  {
   "cell_type": "code",
   "execution_count": 22,
   "metadata": {},
   "outputs": [
    {
     "name": "stdout",
     "output_type": "stream",
     "text": [
      "(56+45j)\n"
     ]
    }
   ],
   "source": [
    "A = jnp.array(\n",
    "    [1.0 + 2.0j, 1.0 + 3.0j]\n",
    ")\n",
    "\n",
    "B = jnp.array(\n",
    "    [[2.0 + 1.0j, 3.0 + 3.0j],\n",
    "     [1.0 + 1.0j, 2.0 + 1.0j]]\n",
    ")\n",
    "\n",
    "C = complex_weighted_norm_square(A, B)\n",
    "print(C)"
   ]
  },
  {
   "cell_type": "code",
   "execution_count": 23,
   "metadata": {},
   "outputs": [
    {
     "name": "stdout",
     "output_type": "stream",
     "text": [
      "(478+148j)\n"
     ]
    }
   ],
   "source": [
    "\n",
    "# Create a complex-valued vector\n",
    "v = jnp.array([1 + 2j, 3 + 4j, 5 + 6j])\n",
    "\n",
    "# Create a complex-valued weight matrix\n",
    "W = jnp.array([[2 + 1j, 1 - 1j, 0],\n",
    "              [0, 3 + 2j, 1 + 2j],\n",
    "              [1 - 1j, 2 + 1j, 4]])\n",
    "\n",
    "# Compute v^H W v\n",
    "inner_product = complex_weighted_norm_square(v, W)\n",
    "\n",
    "print(inner_product)"
   ]
  },
  {
   "cell_type": "code",
   "execution_count": 8,
   "metadata": {},
   "outputs": [
    {
     "data": {
      "text/plain": [
       "Array(15.+0.j, dtype=complex64)"
      ]
     },
     "execution_count": 8,
     "metadata": {},
     "output_type": "execute_result"
    }
   ],
   "source": [
    "jnp.inner(A, A.conj())"
   ]
  },
  {
   "cell_type": "code",
   "execution_count": 3,
   "metadata": {},
   "outputs": [
    {
     "name": "stdout",
     "output_type": "stream",
     "text": [
      "Seperating real and imaginary parts: \n",
      " [[-2. +9.j -4.+16.j]\n",
      " [ 5. +8.j  8.+14.j]]\n"
     ]
    }
   ],
   "source": [
    "A_real, A_imag = jnp.real(A), jnp.imag(A)\n",
    "B_real, B_imag = jnp.real(B), jnp.imag(B)\n",
    "\n",
    "C_real = jnp.matmul(A_real, B_real) - jnp.matmul(A_imag, B_imag)\n",
    "C_imag = jnp.matmul(A_real, B_imag) + jnp.matmul(A_imag, B_real)\n",
    "C = C_real + 1.0j * C_imag\n",
    "\n",
    "print(\"Seperating real and imaginary parts: \\n\", C)"
   ]
  },
  {
   "cell_type": "code",
   "execution_count": 47,
   "metadata": {},
   "outputs": [],
   "source": [
    "from sdebridge.data_processing import butterfly_amasina_pts\n",
    "from sdebridge.sde import SDE\n",
    "from sdebridge.diffusion_bridge import DiffusionBridge\n",
    "from sdebridge.solver import euler_maruyama\n",
    "from matplotlib import colormaps\n",
    "\n",
    "from ml_collections import ConfigDict"
   ]
  },
  {
   "cell_type": "code",
   "execution_count": 75,
   "metadata": {},
   "outputs": [],
   "source": [
    "def sample_ellipse(\n",
    "    n_samples: int,\n",
    "    scale: float = 1.0,\n",
    "    shifts: jnp.ndarray = jnp.array([0.0, 0.0]),\n",
    "    a: float = 1.0,\n",
    "    b: float = 1.0,\n",
    ") -> jnp.ndarray:\n",
    "    theta = jnp.linspace(0, 2 * jnp.pi, n_samples, endpoint=False)\n",
    "    x = a * jnp.cos(theta)\n",
    "    y = b * jnp.sin(theta)\n",
    "    return scale * jnp.stack([x, y], axis=1) + shifts[None, :]"
   ]
  },
  {
   "cell_type": "code",
   "execution_count": 122,
   "metadata": {},
   "outputs": [],
   "source": [
    "# S0 = jnp.array(butterfly_amasina_pts())[:, ::238][:, 1:].transpose()\n",
    "S0 = sample_ellipse(64)"
   ]
  },
  {
   "cell_type": "code",
   "execution_count": 123,
   "metadata": {},
   "outputs": [],
   "source": [
    "n_bases = 4\n",
    "n_samples = S0.shape[0]\n",
    "\n",
    "ks_truncated = jnp.fft.fftfreq(n_bases, d=1.0/(2.0*jnp.pi))  # (n_bases, )\n",
    "kks_truncated = jnp.stack(jnp.meshgrid(ks_truncated, ks_truncated, indexing='ij'), axis=-1)"
   ]
  },
  {
   "cell_type": "code",
   "execution_count": 124,
   "metadata": {},
   "outputs": [],
   "source": [
    "fourier_base_func_1d = lambda m, k: jnp.exp(1j * m * k)\n",
    "\n",
    "def evalute_S_on_bases(S: jnp.ndarray, ks: jnp.ndarray) -> jnp.ndarray:\n",
    "    n_samples = S.shape[0]\n",
    "    S_fft = jax.vmap(partial(jnp.fft.fft, norm=\"ortho\"), in_axes=1, out_axes=1)(S) # (n_samples, 2)\n",
    "    S_fft_shifted = jnp.fft.fftshift(S_fft, axes=0) # (n_samples, 2)\n",
    "    base = lambda k: jnp.exp(1j * jnp.arange(-n_samples//2, n_samples//2) * k) # (n_samples, )\n",
    "    bases = jax.vmap(base)(ks) # (n_bases, n_samples)\n",
    "    S_eval = jnp.matmul(bases, S_fft_shifted) / jnp.sqrt(n_samples) # (n_bases, 2)\n",
    "    return S_eval\n",
    "\n",
    "def evaluate_X_on_bases(X_coeffs: jnp.ndarray, n: int) -> jnp.ndarray:\n",
    "    X_eval = jax.vmap(partial(jnp.fft.irfft, norm=\"forward\", n=n), in_axes=1, out_axes=1)(X_coeffs / jnp.sqrt(n_samples))\n",
    "    return X_eval\n",
    "\n",
    "def gaussian_kernel_2d(x: jnp.ndarray, y: jnp.ndarray, sigma: float, alpha: float) -> jnp.ndarray:\n",
    "    return alpha * jnp.exp(-jnp.linalg.norm(x - y, axis=-1) ** 2 / (2 * sigma ** 2))\n",
    "\n",
    "def evaluate_Q_on_bases(X_coeffs: jnp.ndarray, S0_eval: jnp.ndarray, sigma: float, alpha: float) -> jnp.ndarray:\n",
    "    kernel_func = partial(gaussian_kernel_2d, sigma=sigma, alpha=alpha)\n",
    "    St_eval = evaluate_X_on_bases(X_coeffs, n=n_bases) + S0_eval   # (n_bases, 2)\n",
    "    Q_eval = jax.vmap(\n",
    "        jax.vmap(\n",
    "            jax.vmap(kernel_func, \n",
    "                 (None, 0), \n",
    "                 0), \n",
    "            (None, 1), \n",
    "            1), \n",
    "        (0, None), \n",
    "        0)(St_eval, kks_truncated)\n",
    "    return Q_eval\n",
    "\n",
    "def evaluate_Q_coeffs(X_coeffs: jnp.ndarray, S0_eval: jnp.ndarray, sigma: float, alpha: float) -> jnp.ndarray:\n",
    "    Q_eval = evaluate_Q_on_bases(X_coeffs, S0_eval, sigma, alpha) # (n_bases, n_bases, n_bases)\n",
    "    Q_coeffs = jax.vmap(partial(jnp.fft.fft2, norm=\"forward\"))(Q_eval)    # (n_bases, n_bases, n_bases)\n",
    "    Q_coeffs_shifted = jnp.fft.fftshift(Q_coeffs, axes=(-2, -1))\n",
    "    Q_coeffs_shifted = Q_coeffs_shifted.reshape(n_bases, -1)    # (n_bases, n_bases ** 2)\n",
    "    return Q_coeffs_shifted\n",
    "\n",
    "def evaluate_diffusion_coeffs(X_coeffs: jnp.ndarray, S0_eval: jnp.ndarray, sigma: float, alpha: float) -> jnp.ndarray:\n",
    "    Q_coeffs_shifted = evaluate_Q_coeffs(X_coeffs, S0_eval, sigma, alpha) # (n_bases, n_bases ** 2)\n",
    "    fs = jax.vmap(fourier_base_func_1d, (0, None))(jnp.arange(n_bases), ks_truncated)\n",
    "    return jnp.matmul(fs, Q_coeffs_shifted)    # (n_bases, n_bases**2)"
   ]
  },
  {
   "cell_type": "code",
   "execution_count": 125,
   "metadata": {},
   "outputs": [
    {
     "name": "stdout",
     "output_type": "stream",
     "text": [
      "S0_eval shape:  (4, 2)\n"
     ]
    },
    {
     "data": {
      "text/plain": [
       "<matplotlib.legend.Legend at 0x7fa54c741950>"
      ]
     },
     "execution_count": 125,
     "metadata": {},
     "output_type": "execute_result"
    },
    {
     "data": {
      "image/png": "[encoded data removed]",
      "text/plain": [
       "<Figure size 640x480 with 1 Axes>"
      ]
     },
     "metadata": {},
     "output_type": "display_data"
    }
   ],
   "source": [
    "S0_eval = evalute_S_on_bases(S0, ks_truncated)\n",
    "print(\"S0_eval shape: \", S0_eval.shape)\n",
    "\n",
    "plt.scatter(S0[:, 0], S0[:, 1], s=10, label='initial shape')\n",
    "plt.scatter(S0_eval[:, 0], S0_eval[:, 1], s=10, label='initial shape_eval')\n",
    "plt.axis('equal')\n",
    "plt.legend()"
   ]
  },
  {
   "cell_type": "code",
   "execution_count": 126,
   "metadata": {},
   "outputs": [],
   "source": [
    "class GaussianKernelFuncBasisSDE(SDE):\n",
    "    def __init__(self, config):\n",
    "        self.config = config\n",
    "\n",
    "    def drift(self, val, time) -> jnp.ndarray:\n",
    "        return jnp.zeros_like(val)\n",
    "    \n",
    "    def diffusion(self, val, time) -> jnp.ndarray:\n",
    "        val = jnp.stack(jnp.split(val, 2, axis=-1), axis=-1)\n",
    "        Q_mat = evaluate_diffusion_coeffs(val, self.config.S0_eval, self.config.sigma, self.config.alpha)\n",
    "        zero_mat = jnp.zeros_like(Q_mat)\n",
    "        Q = jnp.block([[Q_mat, zero_mat], [zero_mat, Q_mat]])\n",
    "        return Q"
   ]
  },
  {
   "cell_type": "code",
   "execution_count": 130,
   "metadata": {},
   "outputs": [],
   "source": [
    "sde_config = ConfigDict(\n",
    "    {\n",
    "        'S0_eval': S0_eval,\n",
    "        'T': 1.0,\n",
    "        'N': 100,\n",
    "        'dim': 2,\n",
    "        'n_bases': n_bases,\n",
    "        'sigma': 0.2,\n",
    "        'alpha': 1.0,\n",
    "    }\n",
    ")\n",
    "sde = GaussianKernelFuncBasisSDE(sde_config)\n",
    "bridge = DiffusionBridge(sde)"
   ]
  },
  {
   "cell_type": "code",
   "execution_count": 131,
   "metadata": {},
   "outputs": [],
   "source": [
    "X0 = jnp.zeros((2*n_bases, ), dtype=jnp.complex64)\n",
    "forward_uncond = euler_maruyama(sde, initial_vals=jnp.expand_dims(X0, axis=0), terminal_vals=None)"
   ]
  },
  {
   "cell_type": "code",
   "execution_count": 132,
   "metadata": {},
   "outputs": [
    {
     "name": "stdout",
     "output_type": "stream",
     "text": [
      "Xs_coeffs shape:  (1, 100, 8)\n",
      "Xs_recon shape:  (1, 100, 64, 2)\n",
      "Ss shape:  (1, 100, 64, 2)\n"
     ]
    },
    {
     "data": {
      "text/plain": [
       "(-1.1009787738323211,\n",
       " 1.104406875371933,\n",
       " -1.1005071699619293,\n",
       " 1.102845698595047)"
      ]
     },
     "execution_count": 132,
     "metadata": {},
     "output_type": "execute_result"
    },
    {
     "data": {
      "image/png": "[encoded data removed]",
      "text/plain": [
       "<Figure size 640x480 with 1 Axes>"
      ]
     },
     "metadata": {},
     "output_type": "display_data"
    }
   ],
   "source": [
    "Xs_coeffs = forward_uncond[\"trajectories\"]\n",
    "print(\"Xs_coeffs shape: \", Xs_coeffs.shape)\n",
    "Xs_coeffs = jnp.stack(jnp.split(Xs_coeffs, 2, axis=-1), axis=-1)\n",
    "Xs_recon = jax.vmap(jax.vmap(partial(evaluate_X_on_bases, n=S0.shape[0])))(Xs_coeffs)\n",
    "print(\"Xs_recon shape: \", Xs_recon.shape)\n",
    "\n",
    "Ss = S0[None, None, :, :] + Xs_recon.real\n",
    "print(\"Ss shape: \", Ss.shape)\n",
    "\n",
    "# get the colormap\n",
    "cmap = colormaps.get_cmap('viridis')\n",
    "colors = cmap(jnp.linspace(0, 1,  S0.shape[0]))\n",
    "for i in range(S0.shape[0]):\n",
    "    plt.scatter(Ss[0, 0, i, 0], Ss[0, 0, i, 1], s=10, marker='x', color=colors[i])\n",
    "    plt.scatter(Ss[0, -1, i, 0], Ss[0, -1, i, 1], s=10, marker='o', color=colors[i])\n",
    "    plt.plot(Ss[0, :, i, 0], Ss[0, :, i, 1], color=colors[i], alpha=0.5)\n",
    "plt.axis('equal')"
   ]
  },
  {
   "cell_type": "code",
   "execution_count": null,
   "metadata": {},
   "outputs": [],
   "source": []
  }
 ],
 "metadata": {
  "kernelspec": {
   "display_name": "sdebridge",
   "language": "python",
   "name": "python3"
  },
  "language_info": {
   "codemirror_mode": {
    "name": "ipython",
    "version": 3
   },
   "file_extension": ".py",
   "mimetype": "text/x-python",
   "name": "python",
   "nbconvert_exporter": "python",
   "pygments_lexer": "ipython3",
   "version": "3.11.3"
  }
 },
 "nbformat": 4,
 "nbformat_minor": 2
}
